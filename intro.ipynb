{
 "cells": [
  {
   "cell_type": "markdown",
   "metadata": {},
   "source": [
    "# **AI ML Symposium 2019**"
   ]
  },
  {
   "cell_type": "markdown",
   "metadata": {},
   "source": [
    "# **Introduction to Python for Data Analysis**"
   ]
  },
  {
   "cell_type": "markdown",
   "metadata": {},
   "source": [
    "## *Topics*\n",
    "\n",
    "1. Varibales\n",
    "2. Commenting\n",
    "3. Conditionals\n",
    "4. List, Tuples and Dictionary\n",
    "5. Loops\n",
    "6. List Comprehension\n",
    "7. Zip and Enumerate\n",
    "8. Functions\n",
    "\n",
    "#### Authors: Sudhindra Gopal Krishna and Aditya Narasimhan"
   ]
  },
  {
   "cell_type": "markdown",
   "metadata": {},
   "source": [
    "### Variables and Commenting"
   ]
  },
  {
   "cell_type": "code",
   "execution_count": 4,
   "metadata": {},
   "outputs": [],
   "source": [
    "# types of variables\n",
    "number = 5\n",
    "name = \"AI ML Symposium\"\n",
    "place = 'The University of Oklahoma'"
   ]
  },
  {
   "cell_type": "code",
   "execution_count": 5,
   "metadata": {},
   "outputs": [
    {
     "name": "stdout",
     "output_type": "stream",
     "text": [
      "5\n",
      "AI ML Symposium\n",
      "The University of Oklahoma\n"
     ]
    }
   ],
   "source": [
    "# display what variables hold\n",
    "print(number)\n",
    "print(name)\n",
    "print(place)"
   ]
  },
  {
   "cell_type": "code",
   "execution_count": 6,
   "metadata": {},
   "outputs": [
    {
     "name": "stdout",
     "output_type": "stream",
     "text": [
      "Display everything at once\n",
      "AI ML Symposium at The University of Oklahoma\n"
     ]
    }
   ],
   "source": [
    "# display everything together\n",
    "print(\"Display everything at once\")\n",
    "print(name + \" at \" + place)"
   ]
  },
  {
   "cell_type": "code",
   "execution_count": 7,
   "metadata": {},
   "outputs": [
    {
     "name": "stdout",
     "output_type": "stream",
     "text": [
      "The 'number' is  10\n",
      "The 'Number' is  11\n"
     ]
    }
   ],
   "source": [
    "# variable names are case sensitive\n",
    "number = 10\n",
    "Number = 11\n",
    "\n",
    "print(\"The 'number' is \", number)\n",
    "print(\"The 'Number' is \", Number)"
   ]
  },
  {
   "cell_type": "markdown",
   "metadata": {},
   "source": [
    "### *Conditional Statements*\n",
    "\n",
    "Logical operators used in conditional statements\n",
    "\n",
    "1. **Equals** : To check if two members are equal, **operator: ==**\n",
    "2. **Not Equals** : To check if two members are not equal, **operator: !=**\n",
    "3. **Less than** : To check if one member is less than the other, **operator: <**\n",
    "4. **Less than or equal to** : To check if one member is less than or equal to the other, **operator: <=**\n",
    "5. **Greater than** : To check if one member is greater than the other, **operator: >**\n",
    "6. **Greater than or equal to** : To check if one member is greater than or equal to the other, **operator: >=**\n",
    "7. **and operator** : Returns true if both the statements are true, **operator: and**\n",
    "8. **or operator** : Returns true if either of the statements is true, **operator: or**"
   ]
  },
  {
   "cell_type": "markdown",
   "metadata": {},
   "source": [
    "#### if, if-else, if-elif statements"
   ]
  },
  {
   "cell_type": "code",
   "execution_count": 8,
   "metadata": {},
   "outputs": [
    {
     "name": "stdout",
     "output_type": "stream",
     "text": [
      "The maximum number is  1000\n"
     ]
    }
   ],
   "source": [
    "number = 1000\n",
    "max_number = 120\n",
    "\n",
    "# want to check if the number is greater than maximum number\n",
    "if number > max_number:\n",
    "    print(\"The maximum number is \", number)\n",
    "    "
   ]
  },
  {
   "cell_type": "code",
   "execution_count": 9,
   "metadata": {},
   "outputs": [
    {
     "name": "stdout",
     "output_type": "stream",
     "text": [
      "The number is not the maximum number\n"
     ]
    }
   ],
   "source": [
    "# want to check if the number is less than maximum number\n",
    "# else we will say no it is not less than the maximum\n",
    "\n",
    "if number < max_number:\n",
    "    print(\"The number is less than the maximum number\")\n",
    "else:\n",
    "    print(\"The number is not the maximum number\")\n",
    "    "
   ]
  },
  {
   "cell_type": "code",
   "execution_count": 10,
   "metadata": {},
   "outputs": [
    {
     "name": "stdout",
     "output_type": "stream",
     "text": [
      "The number is greater than the maximum number\n"
     ]
    }
   ],
   "source": [
    "# now what if we want to check if two numbers are equal\n",
    "# if not we want to check if one number is greater than other\n",
    "# if not we can confirm that the number is less than the other\n",
    "\n",
    "if number == max_number:\n",
    "    print(\"The number is equal to the maximum number\")\n",
    "elif number > max_number:\n",
    "    print(\"The number is greater than the maximum number\")\n",
    "else:\n",
    "    print(\"The number is lesser than the maximum number\")\n",
    "    "
   ]
  },
  {
   "cell_type": "markdown",
   "metadata": {},
   "source": [
    "### List, Tuples, and Dictinoaries"
   ]
  },
  {
   "cell_type": "code",
   "execution_count": 11,
   "metadata": {},
   "outputs": [],
   "source": [
    "numberList = [1, 2, 3, 4]\n",
    "nameList = [\"John\", \"Kane\", \"Ben\", \"Smith\"]\n",
    "combinedList = [\"A\", 56, 'C', 90 ]\n",
    "\n",
    "#using list function\n",
    "listFunction = list(range(0,9,2))"
   ]
  },
  {
   "cell_type": "code",
   "execution_count": 12,
   "metadata": {},
   "outputs": [
    {
     "name": "stdout",
     "output_type": "stream",
     "text": [
      "[1, 2, 3, 4]\n"
     ]
    }
   ],
   "source": [
    "print(numberList)"
   ]
  },
  {
   "cell_type": "code",
   "execution_count": 13,
   "metadata": {},
   "outputs": [
    {
     "name": "stdout",
     "output_type": "stream",
     "text": [
      "['John', 'Kane', 'Ben', 'Smith']\n"
     ]
    }
   ],
   "source": [
    "print(nameList)"
   ]
  },
  {
   "cell_type": "code",
   "execution_count": 14,
   "metadata": {},
   "outputs": [
    {
     "name": "stdout",
     "output_type": "stream",
     "text": [
      "['A', 56, 'C', 90]\n"
     ]
    }
   ],
   "source": [
    "print(combinedList)"
   ]
  },
  {
   "cell_type": "code",
   "execution_count": 15,
   "metadata": {},
   "outputs": [
    {
     "name": "stdout",
     "output_type": "stream",
     "text": [
      "[0, 2, 4, 6, 8]\n"
     ]
    }
   ],
   "source": [
    "print(listFunction)"
   ]
  },
  {
   "cell_type": "code",
   "execution_count": 17,
   "metadata": {},
   "outputs": [
    {
     "name": "stdout",
     "output_type": "stream",
     "text": [
      "[8, 6, 4, 2, 0]\n"
     ]
    }
   ],
   "source": [
    "print(listFunction[::-1]) # reverse the list"
   ]
  },
  {
   "cell_type": "code",
   "execution_count": 19,
   "metadata": {},
   "outputs": [
    {
     "name": "stdout",
     "output_type": "stream",
     "text": [
      "[0, 10, 4, 6, 8]\n"
     ]
    }
   ],
   "source": [
    "listFunction[1] = 10 # updating specific list value\n",
    "print(listFunction)"
   ]
  },
  {
   "cell_type": "code",
   "execution_count": 22,
   "metadata": {},
   "outputs": [
    {
     "name": "stdout",
     "output_type": "stream",
     "text": [
      "False\n"
     ]
    }
   ],
   "source": [
    "if 11 in listFunction:\n",
    "    print(True)\n",
    "else:\n",
    "    print(False)"
   ]
  },
  {
   "cell_type": "markdown",
   "metadata": {},
   "source": [
    "### Numpy examples"
   ]
  },
  {
   "cell_type": "code",
   "execution_count": 39,
   "metadata": {},
   "outputs": [],
   "source": [
    "# Numpy package import\n",
    "import numpy as np"
   ]
  },
  {
   "cell_type": "code",
   "execution_count": 28,
   "metadata": {},
   "outputs": [
    {
     "data": {
      "text/plain": [
       "array(['Ben', 'John', 'Kane', 'Smith'], dtype='<U5')"
      ]
     },
     "execution_count": 28,
     "metadata": {},
     "output_type": "execute_result"
    }
   ],
   "source": [
    "np.sort(nameList) # converted to a numpy array and then sorted"
   ]
  },
  {
   "cell_type": "code",
   "execution_count": 30,
   "metadata": {},
   "outputs": [],
   "source": [
    "# Use of tuples\n",
    "tuples = (\"John\", \"Kane\", \"Ben\", \"Smith\")"
   ]
  },
  {
   "cell_type": "code",
   "execution_count": 31,
   "metadata": {},
   "outputs": [
    {
     "data": {
      "text/plain": [
       "array(['Ben', 'John', 'Kane', 'Smith'], dtype='<U5')"
      ]
     },
     "execution_count": 31,
     "metadata": {},
     "output_type": "execute_result"
    }
   ],
   "source": [
    "np.sort(tuples)"
   ]
  },
  {
   "cell_type": "code",
   "execution_count": 32,
   "metadata": {},
   "outputs": [],
   "source": [
    "# Use of sets\n",
    "sets = {\"John\", \"Kane\", \"Ben\", \"Smith\", \"Kane\"}"
   ]
  },
  {
   "cell_type": "code",
   "execution_count": 33,
   "metadata": {},
   "outputs": [
    {
     "name": "stdout",
     "output_type": "stream",
     "text": [
      "{'John', 'Smith', 'Kane', 'Ben'}\n"
     ]
    }
   ],
   "source": [
    "print(sets)"
   ]
  },
  {
   "cell_type": "code",
   "execution_count": 34,
   "metadata": {},
   "outputs": [],
   "source": [
    "# Use of Dictinoray\n",
    "# dictionary structure is key value pair\n",
    "\n",
    "carDict = {\"model\" : [\"Toyota\", \"Honda\"],\n",
    "           \"make\" : [\"Supra\", \"S2000\"],\n",
    "          \"engine\" : [\"2JZ\", \"F20C\"],\n",
    "          \"year\" : [1998, 2000]}"
   ]
  },
  {
   "cell_type": "code",
   "execution_count": 36,
   "metadata": {},
   "outputs": [
    {
     "data": {
      "text/plain": [
       "['Toyota', 'Honda']"
      ]
     },
     "execution_count": 36,
     "metadata": {},
     "output_type": "execute_result"
    }
   ],
   "source": [
    "carDict['model'] # access values using key"
   ]
  },
  {
   "cell_type": "code",
   "execution_count": 45,
   "metadata": {},
   "outputs": [],
   "source": [
    "# import various datasets from the sklearn package\n",
    "from sklearn import datasets\n",
    "dataset = datasets.load_iris()"
   ]
  },
  {
   "cell_type": "code",
   "execution_count": 74,
   "metadata": {},
   "outputs": [],
   "source": [
    "dataset.data"
   ]
  },
  {
   "cell_type": "code",
   "execution_count": 62,
   "metadata": {},
   "outputs": [
    {
     "data": {
      "text/plain": [
       "array([5.1, 3.5, 1.4, 0.2])"
      ]
     },
     "execution_count": 62,
     "metadata": {},
     "output_type": "execute_result"
    }
   ],
   "source": [
    "dataset.data[0] # access the first row of the dataset"
   ]
  },
  {
   "cell_type": "code",
   "execution_count": 86,
   "metadata": {},
   "outputs": [
    {
     "data": {
      "text/plain": [
       "array([[5.1, 3.5, 1.4, 0.2],\n",
       "       [4.9, 3. , 1.4, 0.2],\n",
       "       [4.7, 3.2, 1.3, 0.2],\n",
       "       [4.6, 3.1, 1.5, 0.2],\n",
       "       [5. , 3.6, 1.4, 0.2]])"
      ]
     },
     "execution_count": 86,
     "metadata": {},
     "output_type": "execute_result"
    }
   ],
   "source": [
    "dataset.data[:5] # access the first 5 rows of the dataset"
   ]
  },
  {
   "cell_type": "code",
   "execution_count": 110,
   "metadata": {},
   "outputs": [
    {
     "data": {
      "text/plain": [
       "array([8.6, 7.9, 7.9, 7.7, 8.6])"
      ]
     },
     "execution_count": 110,
     "metadata": {},
     "output_type": "execute_result"
    }
   ],
   "source": [
    "np.sum(dataset.data[:5,:2], axis=1) # add the first 2 columns in numpy array"
   ]
  },
  {
   "cell_type": "code",
   "execution_count": 113,
   "metadata": {},
   "outputs": [
    {
     "data": {
      "text/plain": [
       "array([10. ,  6.5,  2.8,  0.4])"
      ]
     },
     "execution_count": 113,
     "metadata": {},
     "output_type": "execute_result"
    }
   ],
   "source": [
    "np.add(dataset.data[0], dataset.data[1]) # add 2 rows in a numpy array"
   ]
  },
  {
   "cell_type": "markdown",
   "metadata": {},
   "source": [
    "### Pandas examples"
   ]
  },
  {
   "cell_type": "code",
   "execution_count": 114,
   "metadata": {},
   "outputs": [],
   "source": [
    "# Pandas package import\n",
    "import pandas as pd"
   ]
  },
  {
   "cell_type": "code",
   "execution_count": 115,
   "metadata": {},
   "outputs": [],
   "source": [
    "dataframe = pd.DataFrame(carDict) # create a dataframe "
   ]
  },
  {
   "cell_type": "code",
   "execution_count": 116,
   "metadata": {},
   "outputs": [
    {
     "data": {
      "text/html": [
       "<div>\n",
       "<style scoped>\n",
       "    .dataframe tbody tr th:only-of-type {\n",
       "        vertical-align: middle;\n",
       "    }\n",
       "\n",
       "    .dataframe tbody tr th {\n",
       "        vertical-align: top;\n",
       "    }\n",
       "\n",
       "    .dataframe thead th {\n",
       "        text-align: right;\n",
       "    }\n",
       "</style>\n",
       "<table border=\"1\" class=\"dataframe\">\n",
       "  <thead>\n",
       "    <tr style=\"text-align: right;\">\n",
       "      <th></th>\n",
       "      <th>model</th>\n",
       "      <th>make</th>\n",
       "      <th>engine</th>\n",
       "      <th>year</th>\n",
       "    </tr>\n",
       "  </thead>\n",
       "  <tbody>\n",
       "    <tr>\n",
       "      <th>0</th>\n",
       "      <td>Toyota</td>\n",
       "      <td>Supra</td>\n",
       "      <td>2JZ</td>\n",
       "      <td>1998</td>\n",
       "    </tr>\n",
       "    <tr>\n",
       "      <th>1</th>\n",
       "      <td>Honda</td>\n",
       "      <td>S2000</td>\n",
       "      <td>F20C</td>\n",
       "      <td>2000</td>\n",
       "    </tr>\n",
       "  </tbody>\n",
       "</table>\n",
       "</div>"
      ],
      "text/plain": [
       "    model   make engine  year\n",
       "0  Toyota  Supra    2JZ  1998\n",
       "1   Honda  S2000   F20C  2000"
      ]
     },
     "execution_count": 116,
     "metadata": {},
     "output_type": "execute_result"
    }
   ],
   "source": [
    "dataframe #display a dataframe"
   ]
  },
  {
   "cell_type": "code",
   "execution_count": 144,
   "metadata": {},
   "outputs": [
    {
     "data": {
      "text/plain": [
       "0    Supra\n",
       "1    S2000\n",
       "Name: make, dtype: object"
      ]
     },
     "execution_count": 144,
     "metadata": {},
     "output_type": "execute_result"
    }
   ],
   "source": [
    "dataframe[\"make\"] # access a column in a dataframe"
   ]
  },
  {
   "cell_type": "code",
   "execution_count": 136,
   "metadata": {},
   "outputs": [
    {
     "data": {
      "text/plain": [
       "model     Toyota\n",
       "make       Supra\n",
       "engine       2JZ\n",
       "year        1998\n",
       "Name: 0, dtype: object"
      ]
     },
     "execution_count": 136,
     "metadata": {},
     "output_type": "execute_result"
    }
   ],
   "source": [
    "dataframe.iloc[0] # access a row in a dataframe"
   ]
  },
  {
   "cell_type": "code",
   "execution_count": 137,
   "metadata": {},
   "outputs": [],
   "source": [
    "irisSubset = dataset.data[0:100,0:3] # creating a subset of iris numpy dataset"
   ]
  },
  {
   "cell_type": "code",
   "execution_count": 141,
   "metadata": {},
   "outputs": [],
   "source": [
    "newDF = pd.DataFrame(irisSubset) # create a dataframe from that subset"
   ]
  },
  {
   "cell_type": "code",
   "execution_count": 149,
   "metadata": {},
   "outputs": [
    {
     "data": {
      "text/html": [
       "<div>\n",
       "<style scoped>\n",
       "    .dataframe tbody tr th:only-of-type {\n",
       "        vertical-align: middle;\n",
       "    }\n",
       "\n",
       "    .dataframe tbody tr th {\n",
       "        vertical-align: top;\n",
       "    }\n",
       "\n",
       "    .dataframe thead th {\n",
       "        text-align: right;\n",
       "    }\n",
       "</style>\n",
       "<table border=\"1\" class=\"dataframe\">\n",
       "  <thead>\n",
       "    <tr style=\"text-align: right;\">\n",
       "      <th></th>\n",
       "      <th>0</th>\n",
       "      <th>1</th>\n",
       "      <th>2</th>\n",
       "    </tr>\n",
       "  </thead>\n",
       "  <tbody>\n",
       "    <tr>\n",
       "      <th>0</th>\n",
       "      <td>5.1</td>\n",
       "      <td>3.5</td>\n",
       "      <td>1.4</td>\n",
       "    </tr>\n",
       "    <tr>\n",
       "      <th>1</th>\n",
       "      <td>4.9</td>\n",
       "      <td>3.0</td>\n",
       "      <td>1.4</td>\n",
       "    </tr>\n",
       "    <tr>\n",
       "      <th>2</th>\n",
       "      <td>4.7</td>\n",
       "      <td>3.2</td>\n",
       "      <td>1.3</td>\n",
       "    </tr>\n",
       "    <tr>\n",
       "      <th>3</th>\n",
       "      <td>4.6</td>\n",
       "      <td>3.1</td>\n",
       "      <td>1.5</td>\n",
       "    </tr>\n",
       "    <tr>\n",
       "      <th>4</th>\n",
       "      <td>5.0</td>\n",
       "      <td>3.6</td>\n",
       "      <td>1.4</td>\n",
       "    </tr>\n",
       "  </tbody>\n",
       "</table>\n",
       "</div>"
      ],
      "text/plain": [
       "     0    1    2\n",
       "0  5.1  3.5  1.4\n",
       "1  4.9  3.0  1.4\n",
       "2  4.7  3.2  1.3\n",
       "3  4.6  3.1  1.5\n",
       "4  5.0  3.6  1.4"
      ]
     },
     "execution_count": 149,
     "metadata": {},
     "output_type": "execute_result"
    }
   ],
   "source": [
    "newDF.head() # display the first 5 rows"
   ]
  },
  {
   "cell_type": "code",
   "execution_count": 170,
   "metadata": {},
   "outputs": [],
   "source": [
    "trainData = newDF[0] # store a column for later use"
   ]
  },
  {
   "cell_type": "code",
   "execution_count": 147,
   "metadata": {},
   "outputs": [],
   "source": [
    "testData = newDF[1]"
   ]
  },
  {
   "cell_type": "code",
   "execution_count": 127,
   "metadata": {},
   "outputs": [],
   "source": [
    "print(testData)"
   ]
  },
  {
   "cell_type": "code",
   "execution_count": 164,
   "metadata": {},
   "outputs": [],
   "source": [
    "newDF.to_csv(\"test.csv\") # save the dataframe as a csv file"
   ]
  },
  {
   "cell_type": "code",
   "execution_count": 165,
   "metadata": {},
   "outputs": [],
   "source": [
    "newDF2 = pd.DataFrame() # declare new pandas dataframe object"
   ]
  },
  {
   "cell_type": "code",
   "execution_count": 166,
   "metadata": {},
   "outputs": [],
   "source": [
    "newDF2 = pd.read_csv(\"test.csv\") # read from a csv file"
   ]
  },
  {
   "cell_type": "code",
   "execution_count": 167,
   "metadata": {},
   "outputs": [
    {
     "data": {
      "text/html": [
       "<div>\n",
       "<style scoped>\n",
       "    .dataframe tbody tr th:only-of-type {\n",
       "        vertical-align: middle;\n",
       "    }\n",
       "\n",
       "    .dataframe tbody tr th {\n",
       "        vertical-align: top;\n",
       "    }\n",
       "\n",
       "    .dataframe thead th {\n",
       "        text-align: right;\n",
       "    }\n",
       "</style>\n",
       "<table border=\"1\" class=\"dataframe\">\n",
       "  <thead>\n",
       "    <tr style=\"text-align: right;\">\n",
       "      <th></th>\n",
       "      <th>Unnamed: 0</th>\n",
       "      <th>0</th>\n",
       "      <th>1</th>\n",
       "      <th>2</th>\n",
       "    </tr>\n",
       "  </thead>\n",
       "  <tbody>\n",
       "    <tr>\n",
       "      <th>0</th>\n",
       "      <td>0</td>\n",
       "      <td>5.1</td>\n",
       "      <td>3.5</td>\n",
       "      <td>1.4</td>\n",
       "    </tr>\n",
       "    <tr>\n",
       "      <th>1</th>\n",
       "      <td>1</td>\n",
       "      <td>4.9</td>\n",
       "      <td>3.0</td>\n",
       "      <td>1.4</td>\n",
       "    </tr>\n",
       "    <tr>\n",
       "      <th>2</th>\n",
       "      <td>2</td>\n",
       "      <td>4.7</td>\n",
       "      <td>3.2</td>\n",
       "      <td>1.3</td>\n",
       "    </tr>\n",
       "    <tr>\n",
       "      <th>3</th>\n",
       "      <td>3</td>\n",
       "      <td>4.6</td>\n",
       "      <td>3.1</td>\n",
       "      <td>1.5</td>\n",
       "    </tr>\n",
       "    <tr>\n",
       "      <th>4</th>\n",
       "      <td>4</td>\n",
       "      <td>5.0</td>\n",
       "      <td>3.6</td>\n",
       "      <td>1.4</td>\n",
       "    </tr>\n",
       "  </tbody>\n",
       "</table>\n",
       "</div>"
      ],
      "text/plain": [
       "   Unnamed: 0    0    1    2\n",
       "0           0  5.1  3.5  1.4\n",
       "1           1  4.9  3.0  1.4\n",
       "2           2  4.7  3.2  1.3\n",
       "3           3  4.6  3.1  1.5\n",
       "4           4  5.0  3.6  1.4"
      ]
     },
     "execution_count": 167,
     "metadata": {},
     "output_type": "execute_result"
    }
   ],
   "source": [
    "newDF2.head() # has the index from previous as the first column"
   ]
  },
  {
   "cell_type": "code",
   "execution_count": 169,
   "metadata": {},
   "outputs": [],
   "source": [
    "newDF2.drop(columns = [\"Unnamed: 0\"]) # delete the entire first column"
   ]
  },
  {
   "cell_type": "markdown",
   "metadata": {},
   "source": [
    "newDF2 = pd.read_csv(\"test.csv\")"
   ]
  },
  {
   "cell_type": "markdown",
   "metadata": {},
   "source": [
    "### Loops"
   ]
  },
  {
   "cell_type": "code",
   "execution_count": 171,
   "metadata": {},
   "outputs": [
    {
     "name": "stdout",
     "output_type": "stream",
     "text": [
      "0\n",
      "1\n",
      "2\n",
      "3\n",
      "4\n"
     ]
    }
   ],
   "source": [
    "# While loop\n",
    "i = 0 # index to keep track of the count\n",
    "\n",
    "while(i<5):\n",
    "    print(i)\n",
    "    i+=1"
   ]
  },
  {
   "cell_type": "code",
   "execution_count": 172,
   "metadata": {},
   "outputs": [
    {
     "name": "stdout",
     "output_type": "stream",
     "text": [
      "0\n",
      "1\n",
      "2\n",
      "3\n",
      "4\n"
     ]
    }
   ],
   "source": [
    "# for loop\n",
    "for i in range(0,5):\n",
    "    print(i)"
   ]
  },
  {
   "cell_type": "code",
   "execution_count": 177,
   "metadata": {},
   "outputs": [
    {
     "name": "stdout",
     "output_type": "stream",
     "text": [
      "John\n",
      "Kane\n",
      "Ben\n",
      "Smith\n"
     ]
    }
   ],
   "source": [
    "# print the items in a list\n",
    "for items in nameList:\n",
    "    print(items)"
   ]
  },
  {
   "cell_type": "code",
   "execution_count": 176,
   "metadata": {},
   "outputs": [
    {
     "name": "stdout",
     "output_type": "stream",
     "text": [
      "[0, 10, 4, 6, 8]\n",
      "28\n"
     ]
    }
   ],
   "source": [
    "# find the cummulative sum of a list\n",
    "print(listFunction)\n",
    "sum = 0\n",
    "for numbers in listFunction:\n",
    "    sum += numbers\n",
    "\n",
    "print(sum)"
   ]
  },
  {
   "cell_type": "code",
   "execution_count": 175,
   "metadata": {},
   "outputs": [
    {
     "name": "stdout",
     "output_type": "stream",
     "text": [
      "model  :  ['Toyota', 'Honda']\n",
      "make  :  ['Supra', 'S2000']\n",
      "engine  :  ['2JZ', 'F20C']\n",
      "year  :  [1998, 2000]\n"
     ]
    }
   ],
   "source": [
    "# loop through the elements of a dictionary with key and value\n",
    "for key, value in carDict.items():\n",
    "    \n",
    "    print(key, \" : \", value)"
   ]
  },
  {
   "cell_type": "markdown",
   "metadata": {},
   "source": [
    "## List Comprehension"
   ]
  },
  {
   "cell_type": "code",
   "execution_count": 178,
   "metadata": {},
   "outputs": [
    {
     "name": "stdout",
     "output_type": "stream",
     "text": [
      "[0, 2, 4, 6, 8, 10, 12, 14, 16, 18, 20]\n"
     ]
    }
   ],
   "source": [
    "# get even numbers from 0 to 21\n",
    "evens = [] # delare an empty list\n",
    "\n",
    "for i in range(0,21):\n",
    "    if i%2 == 0:\n",
    "        evens.append(i)\n",
    "\n",
    "print(evens)"
   ]
  },
  {
   "cell_type": "code",
   "execution_count": 179,
   "metadata": {},
   "outputs": [],
   "source": [
    "# want to create a list of even numbers ranging from 0 to 20\n",
    "\n",
    "evenNumbers = [x for x in range(0,21) if x%2 == 0]"
   ]
  },
  {
   "cell_type": "code",
   "execution_count": 180,
   "metadata": {},
   "outputs": [
    {
     "name": "stdout",
     "output_type": "stream",
     "text": [
      "[0, 2, 4, 6, 8, 10, 12, 14, 16, 18, 20]\n"
     ]
    }
   ],
   "source": [
    "print(evenNumbers)"
   ]
  },
  {
   "cell_type": "markdown",
   "metadata": {},
   "source": [
    "## Zip and Enumerate"
   ]
  },
  {
   "cell_type": "code",
   "execution_count": 181,
   "metadata": {},
   "outputs": [
    {
     "name": "stdout",
     "output_type": "stream",
     "text": [
      "(0, 0)\n",
      "(1, 2)\n",
      "(2, 4)\n",
      "(3, 6)\n",
      "(4, 8)\n",
      "(5, 10)\n",
      "(6, 12)\n",
      "(7, 14)\n",
      "(8, 16)\n",
      "(9, 18)\n",
      "(10, 20)\n"
     ]
    }
   ],
   "source": [
    "# Enumurate: combine the index and the corresponding value of a list\n",
    "for i in enumerate(evenNumbers):\n",
    "    print(i)"
   ]
  },
  {
   "cell_type": "code",
   "execution_count": 184,
   "metadata": {},
   "outputs": [],
   "source": [
    "oddNumbers = [x for x in range(0,22) if x%2!=0] # create odd number of same length"
   ]
  },
  {
   "cell_type": "code",
   "execution_count": 185,
   "metadata": {},
   "outputs": [
    {
     "name": "stdout",
     "output_type": "stream",
     "text": [
      "(0, 1)\n",
      "(2, 3)\n",
      "(4, 5)\n",
      "(6, 7)\n",
      "(8, 9)\n",
      "(10, 11)\n",
      "(12, 13)\n",
      "(14, 15)\n",
      "(16, 17)\n",
      "(18, 19)\n",
      "(20, 21)\n"
     ]
    }
   ],
   "source": [
    "# combine two lists of same length\n",
    "for i in zip(evenNumbers, oddNumbers):\n",
    "    print(i)"
   ]
  },
  {
   "cell_type": "code",
   "execution_count": 190,
   "metadata": {},
   "outputs": [
    {
     "data": {
      "text/plain": [
       "array([[5.1, 3.5, 1.4],\n",
       "       [4.9, 3. , 1.4],\n",
       "       [4.7, 3.2, 1.3],\n",
       "       [4.6, 3.1, 1.5],\n",
       "       [5. , 3.6, 1.4]])"
      ]
     },
     "execution_count": 190,
     "metadata": {},
     "output_type": "execute_result"
    }
   ],
   "source": [
    "iris[:5, :] # revisiting iris numpy array"
   ]
  },
  {
   "cell_type": "code",
   "execution_count": 191,
   "metadata": {},
   "outputs": [
    {
     "name": "stdout",
     "output_type": "stream",
     "text": [
      "(0, (5.1, 3.5))\n",
      "(1, (4.9, 3.0))\n",
      "(2, (4.7, 3.2))\n",
      "(3, (4.6, 3.1))\n",
      "(4, (5.0, 3.6))\n",
      "(5, (5.4, 3.9))\n",
      "(6, (4.6, 3.4))\n",
      "(7, (5.0, 3.4))\n",
      "(8, (4.4, 2.9))\n",
      "(9, (4.9, 3.1))\n",
      "(10, (5.4, 3.7))\n",
      "(11, (4.8, 3.4))\n",
      "(12, (4.8, 3.0))\n",
      "(13, (4.3, 3.0))\n",
      "(14, (5.8, 4.0))\n",
      "(15, (5.7, 4.4))\n",
      "(16, (5.4, 3.9))\n",
      "(17, (5.1, 3.5))\n",
      "(18, (5.7, 3.8))\n",
      "(19, (5.1, 3.8))\n",
      "(20, (5.4, 3.4))\n",
      "(21, (5.1, 3.7))\n",
      "(22, (4.6, 3.6))\n",
      "(23, (5.1, 3.3))\n",
      "(24, (4.8, 3.4))\n",
      "(25, (5.0, 3.0))\n",
      "(26, (5.0, 3.4))\n",
      "(27, (5.2, 3.5))\n",
      "(28, (5.2, 3.4))\n",
      "(29, (4.7, 3.2))\n",
      "(30, (4.8, 3.1))\n",
      "(31, (5.4, 3.4))\n",
      "(32, (5.2, 4.1))\n",
      "(33, (5.5, 4.2))\n",
      "(34, (4.9, 3.1))\n",
      "(35, (5.0, 3.2))\n",
      "(36, (5.5, 3.5))\n",
      "(37, (4.9, 3.6))\n",
      "(38, (4.4, 3.0))\n",
      "(39, (5.1, 3.4))\n",
      "(40, (5.0, 3.5))\n",
      "(41, (4.5, 2.3))\n",
      "(42, (4.4, 3.2))\n",
      "(43, (5.0, 3.5))\n",
      "(44, (5.1, 3.8))\n",
      "(45, (4.8, 3.0))\n",
      "(46, (5.1, 3.8))\n",
      "(47, (4.6, 3.2))\n",
      "(48, (5.3, 3.7))\n",
      "(49, (5.0, 3.3))\n",
      "(50, (7.0, 3.2))\n",
      "(51, (6.4, 3.2))\n",
      "(52, (6.9, 3.1))\n",
      "(53, (5.5, 2.3))\n",
      "(54, (6.5, 2.8))\n",
      "(55, (5.7, 2.8))\n",
      "(56, (6.3, 3.3))\n",
      "(57, (4.9, 2.4))\n",
      "(58, (6.6, 2.9))\n",
      "(59, (5.2, 2.7))\n",
      "(60, (5.0, 2.0))\n",
      "(61, (5.9, 3.0))\n",
      "(62, (6.0, 2.2))\n",
      "(63, (6.1, 2.9))\n",
      "(64, (5.6, 2.9))\n",
      "(65, (6.7, 3.1))\n",
      "(66, (5.6, 3.0))\n",
      "(67, (5.8, 2.7))\n",
      "(68, (6.2, 2.2))\n",
      "(69, (5.6, 2.5))\n",
      "(70, (5.9, 3.2))\n",
      "(71, (6.1, 2.8))\n",
      "(72, (6.3, 2.5))\n",
      "(73, (6.1, 2.8))\n",
      "(74, (6.4, 2.9))\n",
      "(75, (6.6, 3.0))\n",
      "(76, (6.8, 2.8))\n",
      "(77, (6.7, 3.0))\n",
      "(78, (6.0, 2.9))\n",
      "(79, (5.7, 2.6))\n",
      "(80, (5.5, 2.4))\n",
      "(81, (5.5, 2.4))\n",
      "(82, (5.8, 2.7))\n",
      "(83, (6.0, 2.7))\n",
      "(84, (5.4, 3.0))\n",
      "(85, (6.0, 3.4))\n",
      "(86, (6.7, 3.1))\n",
      "(87, (6.3, 2.3))\n",
      "(88, (5.6, 3.0))\n",
      "(89, (5.5, 2.5))\n",
      "(90, (5.5, 2.6))\n",
      "(91, (6.1, 3.0))\n",
      "(92, (5.8, 2.6))\n",
      "(93, (5.0, 2.3))\n",
      "(94, (5.6, 2.7))\n",
      "(95, (5.7, 3.0))\n",
      "(96, (5.7, 2.9))\n",
      "(97, (6.2, 2.9))\n",
      "(98, (5.1, 2.5))\n",
      "(99, (5.7, 2.8))\n"
     ]
    }
   ],
   "source": [
    "# use enumurate and zip together\n",
    "for i in enumerate(zip(iris[:,0], iris[:,1])):\n",
    "    print(i)"
   ]
  },
  {
   "cell_type": "markdown",
   "metadata": {},
   "source": [
    "## Functions"
   ]
  },
  {
   "cell_type": "code",
   "execution_count": 193,
   "metadata": {},
   "outputs": [],
   "source": [
    "import random # importing the random package\n",
    "\n",
    "# function definition\n",
    "def generateRandomNumbers(range1, range2, numElements): # attributes here are range1, range 2 and numElements\n",
    "    \n",
    "    randomNumbers = []\n",
    "    \n",
    "    for i in range(0, numElements+1):\n",
    "        randomNumbers.append(random.randrange(range1, range2, 1))\n",
    "        \n",
    "    return randomNumbers"
   ]
  },
  {
   "cell_type": "code",
   "execution_count": 194,
   "metadata": {},
   "outputs": [],
   "source": [
    "# function call\n",
    "randNumbers = generateRandomNumbers(0, 20, 5)"
   ]
  },
  {
   "cell_type": "code",
   "execution_count": 195,
   "metadata": {},
   "outputs": [
    {
     "data": {
      "text/plain": [
       "[5, 16, 2, 5, 11, 19]"
      ]
     },
     "execution_count": 195,
     "metadata": {},
     "output_type": "execute_result"
    }
   ],
   "source": [
    "randNumbers"
   ]
  },
  {
   "cell_type": "code",
   "execution_count": 196,
   "metadata": {},
   "outputs": [],
   "source": [
    "randNumbers2 = generateRandomNumbers(100, 300, 10)"
   ]
  },
  {
   "cell_type": "code",
   "execution_count": 197,
   "metadata": {},
   "outputs": [
    {
     "data": {
      "text/plain": [
       "[241, 165, 207, 154, 294, 226, 182, 269, 183, 161, 257]"
      ]
     },
     "execution_count": 197,
     "metadata": {},
     "output_type": "execute_result"
    }
   ],
   "source": [
    "randNumbers2"
   ]
  },
  {
   "cell_type": "code",
   "execution_count": null,
   "metadata": {},
   "outputs": [],
   "source": []
  }
 ],
 "metadata": {
  "kernelspec": {
   "display_name": "Python 3",
   "language": "python",
   "name": "python3"
  },
  "language_info": {
   "codemirror_mode": {
    "name": "ipython",
    "version": 3
   },
   "file_extension": ".py",
   "mimetype": "text/x-python",
   "name": "python",
   "nbconvert_exporter": "python",
   "pygments_lexer": "ipython3",
   "version": "3.7.3"
  }
 },
 "nbformat": 4,
 "nbformat_minor": 2
}
